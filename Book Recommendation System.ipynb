{
 "cells": [
  {
   "cell_type": "markdown",
   "metadata": {},
   "source": [
    "# **Data Science Project on Book Recommendation System**"
   ]
  },
  {
   "cell_type": "markdown",
   "metadata": {},
   "source": [
    "## 1. Exploratory Data Analysis"
   ]
  },
  {
   "cell_type": "markdown",
   "metadata": {},
   "source": [
    "### 1.1 Books Dataset"
   ]
  },
  {
   "cell_type": "code",
   "execution_count": 33,
   "metadata": {},
   "outputs": [],
   "source": [
    "# Import necessary Libraries\n",
    "import pandas as pd\n",
    "import numpy as np"
   ]
  },
  {
   "cell_type": "code",
   "execution_count": 34,
   "metadata": {},
   "outputs": [
    {
     "name": "stderr",
     "output_type": "stream",
     "text": [
      "C:\\Users\\Shreyas\\AppData\\Local\\Temp\\ipykernel_33324\\2381400437.py:2: DtypeWarning: Columns (3) have mixed types. Specify dtype option on import or set low_memory=False.\n",
      "  books = pd.read_csv(\"C:/Users/Shreyas/Desktop/ExcelR Data Science Project/Dataset/books.csv\")\n"
     ]
    }
   ],
   "source": [
    "# Load the Datsets\n",
    "books = pd.read_csv(\"C:/Users/Shreyas/Desktop/ExcelR Data Science Project/Dataset/books.csv\")\n",
    "users = pd.read_csv(\"C:/Users/Shreyas/Desktop/ExcelR Data Science Project/Dataset/users.csv\")\n",
    "ratings = pd.read_csv(\"C:/Users/Shreyas/Desktop/ExcelR Data Science Project/Dataset/ratings.csv\")"
   ]
  },
  {
   "cell_type": "code",
   "execution_count": 35,
   "metadata": {},
   "outputs": [
    {
     "name": "stdout",
     "output_type": "stream",
     "text": [
      "Shape of the Book Dataset: (271360, 8)\n",
      "Shape of the Users Dataset: (278858, 3)\n",
      "Shape of the Ratings Dataset: (1149780, 3)\n"
     ]
    }
   ],
   "source": [
    "# Check the shape of the dataset\n",
    "print(\"Shape of the Book Dataset:\", books.shape)\n",
    "print(\"Shape of the Users Dataset:\", users.shape)\n",
    "print(\"Shape of the Ratings Dataset:\", ratings.shape)"
   ]
  },
  {
   "cell_type": "code",
   "execution_count": 36,
   "metadata": {},
   "outputs": [
    {
     "data": {
      "text/html": [
       "<div>\n",
       "<style scoped>\n",
       "    .dataframe tbody tr th:only-of-type {\n",
       "        vertical-align: middle;\n",
       "    }\n",
       "\n",
       "    .dataframe tbody tr th {\n",
       "        vertical-align: top;\n",
       "    }\n",
       "\n",
       "    .dataframe thead th {\n",
       "        text-align: right;\n",
       "    }\n",
       "</style>\n",
       "<table border=\"1\" class=\"dataframe\">\n",
       "  <thead>\n",
       "    <tr style=\"text-align: right;\">\n",
       "      <th></th>\n",
       "      <th>ISBN</th>\n",
       "      <th>Book-Title</th>\n",
       "      <th>Book-Author</th>\n",
       "      <th>Year-Of-Publication</th>\n",
       "      <th>Publisher</th>\n",
       "      <th>Image-URL-S</th>\n",
       "      <th>Image-URL-M</th>\n",
       "      <th>Image-URL-L</th>\n",
       "    </tr>\n",
       "  </thead>\n",
       "  <tbody>\n",
       "    <tr>\n",
       "      <th>0</th>\n",
       "      <td>0195153448</td>\n",
       "      <td>Classical Mythology</td>\n",
       "      <td>Mark P. O. Morford</td>\n",
       "      <td>2002</td>\n",
       "      <td>Oxford University Press</td>\n",
       "      <td>http://images.amazon.com/images/P/0195153448.0...</td>\n",
       "      <td>http://images.amazon.com/images/P/0195153448.0...</td>\n",
       "      <td>http://images.amazon.com/images/P/0195153448.0...</td>\n",
       "    </tr>\n",
       "    <tr>\n",
       "      <th>1</th>\n",
       "      <td>0002005018</td>\n",
       "      <td>Clara Callan</td>\n",
       "      <td>Richard Bruce Wright</td>\n",
       "      <td>2001</td>\n",
       "      <td>HarperFlamingo Canada</td>\n",
       "      <td>http://images.amazon.com/images/P/0002005018.0...</td>\n",
       "      <td>http://images.amazon.com/images/P/0002005018.0...</td>\n",
       "      <td>http://images.amazon.com/images/P/0002005018.0...</td>\n",
       "    </tr>\n",
       "    <tr>\n",
       "      <th>2</th>\n",
       "      <td>0060973129</td>\n",
       "      <td>Decision in Normandy</td>\n",
       "      <td>Carlo D'Este</td>\n",
       "      <td>1991</td>\n",
       "      <td>HarperPerennial</td>\n",
       "      <td>http://images.amazon.com/images/P/0060973129.0...</td>\n",
       "      <td>http://images.amazon.com/images/P/0060973129.0...</td>\n",
       "      <td>http://images.amazon.com/images/P/0060973129.0...</td>\n",
       "    </tr>\n",
       "    <tr>\n",
       "      <th>3</th>\n",
       "      <td>0374157065</td>\n",
       "      <td>Flu: The Story of the Great Influenza Pandemic...</td>\n",
       "      <td>Gina Bari Kolata</td>\n",
       "      <td>1999</td>\n",
       "      <td>Farrar Straus Giroux</td>\n",
       "      <td>http://images.amazon.com/images/P/0374157065.0...</td>\n",
       "      <td>http://images.amazon.com/images/P/0374157065.0...</td>\n",
       "      <td>http://images.amazon.com/images/P/0374157065.0...</td>\n",
       "    </tr>\n",
       "    <tr>\n",
       "      <th>4</th>\n",
       "      <td>0393045218</td>\n",
       "      <td>The Mummies of Urumchi</td>\n",
       "      <td>E. J. W. Barber</td>\n",
       "      <td>1999</td>\n",
       "      <td>W. W. Norton &amp;amp; Company</td>\n",
       "      <td>http://images.amazon.com/images/P/0393045218.0...</td>\n",
       "      <td>http://images.amazon.com/images/P/0393045218.0...</td>\n",
       "      <td>http://images.amazon.com/images/P/0393045218.0...</td>\n",
       "    </tr>\n",
       "  </tbody>\n",
       "</table>\n",
       "</div>"
      ],
      "text/plain": [
       "         ISBN                                         Book-Title  \\\n",
       "0  0195153448                                Classical Mythology   \n",
       "1  0002005018                                       Clara Callan   \n",
       "2  0060973129                               Decision in Normandy   \n",
       "3  0374157065  Flu: The Story of the Great Influenza Pandemic...   \n",
       "4  0393045218                             The Mummies of Urumchi   \n",
       "\n",
       "            Book-Author Year-Of-Publication                   Publisher  \\\n",
       "0    Mark P. O. Morford                2002     Oxford University Press   \n",
       "1  Richard Bruce Wright                2001       HarperFlamingo Canada   \n",
       "2          Carlo D'Este                1991             HarperPerennial   \n",
       "3      Gina Bari Kolata                1999        Farrar Straus Giroux   \n",
       "4       E. J. W. Barber                1999  W. W. Norton &amp; Company   \n",
       "\n",
       "                                         Image-URL-S  \\\n",
       "0  http://images.amazon.com/images/P/0195153448.0...   \n",
       "1  http://images.amazon.com/images/P/0002005018.0...   \n",
       "2  http://images.amazon.com/images/P/0060973129.0...   \n",
       "3  http://images.amazon.com/images/P/0374157065.0...   \n",
       "4  http://images.amazon.com/images/P/0393045218.0...   \n",
       "\n",
       "                                         Image-URL-M  \\\n",
       "0  http://images.amazon.com/images/P/0195153448.0...   \n",
       "1  http://images.amazon.com/images/P/0002005018.0...   \n",
       "2  http://images.amazon.com/images/P/0060973129.0...   \n",
       "3  http://images.amazon.com/images/P/0374157065.0...   \n",
       "4  http://images.amazon.com/images/P/0393045218.0...   \n",
       "\n",
       "                                         Image-URL-L  \n",
       "0  http://images.amazon.com/images/P/0195153448.0...  \n",
       "1  http://images.amazon.com/images/P/0002005018.0...  \n",
       "2  http://images.amazon.com/images/P/0060973129.0...  \n",
       "3  http://images.amazon.com/images/P/0374157065.0...  \n",
       "4  http://images.amazon.com/images/P/0393045218.0...  "
      ]
     },
     "execution_count": 36,
     "metadata": {},
     "output_type": "execute_result"
    }
   ],
   "source": [
    "# Check for the first five rows\n",
    "books.head()"
   ]
  },
  {
   "cell_type": "code",
   "execution_count": 37,
   "metadata": {},
   "outputs": [
    {
     "data": {
      "text/html": [
       "<div>\n",
       "<style scoped>\n",
       "    .dataframe tbody tr th:only-of-type {\n",
       "        vertical-align: middle;\n",
       "    }\n",
       "\n",
       "    .dataframe tbody tr th {\n",
       "        vertical-align: top;\n",
       "    }\n",
       "\n",
       "    .dataframe thead th {\n",
       "        text-align: right;\n",
       "    }\n",
       "</style>\n",
       "<table border=\"1\" class=\"dataframe\">\n",
       "  <thead>\n",
       "    <tr style=\"text-align: right;\">\n",
       "      <th></th>\n",
       "      <th>ISBN</th>\n",
       "      <th>Book-Title</th>\n",
       "      <th>Book-Author</th>\n",
       "      <th>Year-Of-Publication</th>\n",
       "      <th>Publisher</th>\n",
       "      <th>Image-URL-S</th>\n",
       "      <th>Image-URL-M</th>\n",
       "      <th>Image-URL-L</th>\n",
       "    </tr>\n",
       "  </thead>\n",
       "  <tbody>\n",
       "    <tr>\n",
       "      <th>count</th>\n",
       "      <td>271360</td>\n",
       "      <td>271360</td>\n",
       "      <td>271359</td>\n",
       "      <td>271360</td>\n",
       "      <td>271358</td>\n",
       "      <td>271360</td>\n",
       "      <td>271360</td>\n",
       "      <td>271357</td>\n",
       "    </tr>\n",
       "    <tr>\n",
       "      <th>unique</th>\n",
       "      <td>271360</td>\n",
       "      <td>242135</td>\n",
       "      <td>102023</td>\n",
       "      <td>202</td>\n",
       "      <td>16807</td>\n",
       "      <td>271044</td>\n",
       "      <td>271044</td>\n",
       "      <td>271041</td>\n",
       "    </tr>\n",
       "    <tr>\n",
       "      <th>top</th>\n",
       "      <td>0195153448</td>\n",
       "      <td>Selected Poems</td>\n",
       "      <td>Agatha Christie</td>\n",
       "      <td>2002</td>\n",
       "      <td>Harlequin</td>\n",
       "      <td>http://images.amazon.com/images/P/185326119X.0...</td>\n",
       "      <td>http://images.amazon.com/images/P/185326119X.0...</td>\n",
       "      <td>http://images.amazon.com/images/P/225307649X.0...</td>\n",
       "    </tr>\n",
       "    <tr>\n",
       "      <th>freq</th>\n",
       "      <td>1</td>\n",
       "      <td>27</td>\n",
       "      <td>632</td>\n",
       "      <td>13903</td>\n",
       "      <td>7535</td>\n",
       "      <td>2</td>\n",
       "      <td>2</td>\n",
       "      <td>2</td>\n",
       "    </tr>\n",
       "  </tbody>\n",
       "</table>\n",
       "</div>"
      ],
      "text/plain": [
       "              ISBN      Book-Title      Book-Author  Year-Of-Publication  \\\n",
       "count       271360          271360           271359               271360   \n",
       "unique      271360          242135           102023                  202   \n",
       "top     0195153448  Selected Poems  Agatha Christie                 2002   \n",
       "freq             1              27              632                13903   \n",
       "\n",
       "        Publisher                                        Image-URL-S  \\\n",
       "count      271358                                             271360   \n",
       "unique      16807                                             271044   \n",
       "top     Harlequin  http://images.amazon.com/images/P/185326119X.0...   \n",
       "freq         7535                                                  2   \n",
       "\n",
       "                                              Image-URL-M  \\\n",
       "count                                              271360   \n",
       "unique                                             271044   \n",
       "top     http://images.amazon.com/images/P/185326119X.0...   \n",
       "freq                                                    2   \n",
       "\n",
       "                                              Image-URL-L  \n",
       "count                                              271357  \n",
       "unique                                             271041  \n",
       "top     http://images.amazon.com/images/P/225307649X.0...  \n",
       "freq                                                    2  "
      ]
     },
     "execution_count": 37,
     "metadata": {},
     "output_type": "execute_result"
    }
   ],
   "source": [
    "#Describe the data\n",
    "books.describe()"
   ]
  },
  {
   "cell_type": "code",
   "execution_count": 38,
   "metadata": {},
   "outputs": [
    {
     "data": {
      "text/plain": [
       "ISBN                   object\n",
       "Book-Title             object\n",
       "Book-Author            object\n",
       "Year-Of-Publication    object\n",
       "Publisher              object\n",
       "Image-URL-S            object\n",
       "Image-URL-M            object\n",
       "Image-URL-L            object\n",
       "dtype: object"
      ]
     },
     "execution_count": 38,
     "metadata": {},
     "output_type": "execute_result"
    }
   ],
   "source": [
    "#Check for the data type of each column\n",
    "books.dtypes"
   ]
  },
  {
   "cell_type": "code",
   "execution_count": 39,
   "metadata": {},
   "outputs": [
    {
     "name": "stdout",
     "output_type": "stream",
     "text": [
      "Null values in each column:\n",
      " ISBN                   0\n",
      "Book-Title             0\n",
      "Book-Author            1\n",
      "Year-Of-Publication    0\n",
      "Publisher              2\n",
      "Image-URL-S            0\n",
      "Image-URL-M            0\n",
      "Image-URL-L            3\n",
      "dtype: int64\n",
      "Blank values in each column:\n",
      " ISBN                   0\n",
      "Book-Title             0\n",
      "Book-Author            0\n",
      "Year-Of-Publication    0\n",
      "Publisher              0\n",
      "Image-URL-S            0\n",
      "Image-URL-M            0\n",
      "Image-URL-L            0\n",
      "dtype: int64\n"
     ]
    }
   ],
   "source": [
    "# Check for null values\n",
    "null_values = books.isnull().sum()\n",
    "print(\"Null values in each column:\\n\", null_values)\n",
    "\n",
    "# Check for blank values (empty strings) in each column\n",
    "blank_values = (books.applymap(lambda x: x == '')).sum()\n",
    "print(\"Blank values in each column:\\n\", blank_values)"
   ]
  },
  {
   "cell_type": "code",
   "execution_count": 40,
   "metadata": {},
   "outputs": [],
   "source": [
    "#Replace the Null Values of Book and Publisher Column with \"missing\"\n",
    "books['Book-Author'].fillna('missing', inplace=True)\n",
    "books['Publisher'].fillna('missing', inplace=True)"
   ]
  },
  {
   "cell_type": "code",
   "execution_count": 41,
   "metadata": {},
   "outputs": [
    {
     "name": "stdout",
     "output_type": "stream",
     "text": [
      "Null values in each column:\n",
      " ISBN                   0\n",
      "Book-Title             0\n",
      "Book-Author            0\n",
      "Year-Of-Publication    0\n",
      "Publisher              0\n",
      "Image-URL-S            0\n",
      "Image-URL-M            0\n",
      "Image-URL-L            3\n",
      "dtype: int64\n"
     ]
    }
   ],
   "source": [
    "# Check for null values after replacing the null values\n",
    "null_values = books.isnull().sum()\n",
    "print(\"Null values in each column:\\n\", null_values)"
   ]
  },
  {
   "cell_type": "code",
   "execution_count": 42,
   "metadata": {},
   "outputs": [],
   "source": [
    "#Convert any character data to NaN\n",
    "books['Year-Of-Publication'] = pd.to_numeric(books['Year-Of-Publication'],errors='coerce')"
   ]
  },
  {
   "cell_type": "code",
   "execution_count": 43,
   "metadata": {},
   "outputs": [
    {
     "data": {
      "text/plain": [
       "array([   0., 1376., 1378., 1806., 1897., 1900., 1901., 1902., 1904.,\n",
       "       1906., 1908., 1909., 1910., 1911., 1914., 1917., 1919., 1920.,\n",
       "       1921., 1922., 1923., 1924., 1925., 1926., 1927., 1928., 1929.,\n",
       "       1930., 1931., 1932., 1933., 1934., 1935., 1936., 1937., 1938.,\n",
       "       1939., 1940., 1941., 1942., 1943., 1944., 1945., 1946., 1947.,\n",
       "       1948., 1949., 1950., 1951., 1952., 1953., 1954., 1955., 1956.,\n",
       "       1957., 1958., 1959., 1960., 1961., 1962., 1963., 1964., 1965.,\n",
       "       1966., 1967., 1968., 1969., 1970., 1971., 1972., 1973., 1974.,\n",
       "       1975., 1976., 1977., 1978., 1979., 1980., 1981., 1982., 1983.,\n",
       "       1984., 1985., 1986., 1987., 1988., 1989., 1990., 1991., 1992.,\n",
       "       1993., 1994., 1995., 1996., 1997., 1998., 1999., 2000., 2001.,\n",
       "       2002., 2003., 2004., 2005., 2006., 2008., 2010., 2011., 2012.,\n",
       "       2020., 2021., 2024., 2026., 2030., 2037., 2038., 2050.,   nan])"
      ]
     },
     "execution_count": 43,
     "metadata": {},
     "output_type": "execute_result"
    }
   ],
   "source": [
    "#Print Unique Years\n",
    "Years = books['Year-Of-Publication'].unique()\n",
    "Years.sort()\n",
    "Years"
   ]
  },
  {
   "cell_type": "code",
   "execution_count": 44,
   "metadata": {},
   "outputs": [],
   "source": [
    "#Replac the N/A values with the year 2024\n",
    "books['Year-Of-Publication'].fillna(2024, inplace=True)"
   ]
  },
  {
   "cell_type": "code",
   "execution_count": 45,
   "metadata": {},
   "outputs": [
    {
     "data": {
      "text/html": [
       "<div>\n",
       "<style scoped>\n",
       "    .dataframe tbody tr th:only-of-type {\n",
       "        vertical-align: middle;\n",
       "    }\n",
       "\n",
       "    .dataframe tbody tr th {\n",
       "        vertical-align: top;\n",
       "    }\n",
       "\n",
       "    .dataframe thead th {\n",
       "        text-align: right;\n",
       "    }\n",
       "</style>\n",
       "<table border=\"1\" class=\"dataframe\">\n",
       "  <thead>\n",
       "    <tr style=\"text-align: right;\">\n",
       "      <th></th>\n",
       "      <th>ISBN</th>\n",
       "      <th>Book-Title</th>\n",
       "      <th>Book-Author</th>\n",
       "      <th>Year-Of-Publication</th>\n",
       "      <th>Publisher</th>\n",
       "      <th>Image-URL-S</th>\n",
       "      <th>Image-URL-M</th>\n",
       "      <th>Image-URL-L</th>\n",
       "    </tr>\n",
       "  </thead>\n",
       "  <tbody>\n",
       "    <tr>\n",
       "      <th>176</th>\n",
       "      <td>3150000335</td>\n",
       "      <td>Kabale Und Liebe</td>\n",
       "      <td>Schiller</td>\n",
       "      <td>0.0</td>\n",
       "      <td>Philipp Reclam, Jun Verlag GmbH</td>\n",
       "      <td>http://images.amazon.com/images/P/3150000335.0...</td>\n",
       "      <td>http://images.amazon.com/images/P/3150000335.0...</td>\n",
       "      <td>http://images.amazon.com/images/P/3150000335.0...</td>\n",
       "    </tr>\n",
       "    <tr>\n",
       "      <th>188</th>\n",
       "      <td>342311360X</td>\n",
       "      <td>Die Liebe in Den Zelten</td>\n",
       "      <td>Gabriel Garcia Marquez</td>\n",
       "      <td>0.0</td>\n",
       "      <td>Deutscher Taschenbuch Verlag (DTV)</td>\n",
       "      <td>http://images.amazon.com/images/P/342311360X.0...</td>\n",
       "      <td>http://images.amazon.com/images/P/342311360X.0...</td>\n",
       "      <td>http://images.amazon.com/images/P/342311360X.0...</td>\n",
       "    </tr>\n",
       "    <tr>\n",
       "      <th>288</th>\n",
       "      <td>0571197639</td>\n",
       "      <td>Poisonwood Bible Edition Uk</td>\n",
       "      <td>Barbara Kingsolver</td>\n",
       "      <td>0.0</td>\n",
       "      <td>Faber Faber Inc</td>\n",
       "      <td>http://images.amazon.com/images/P/0571197639.0...</td>\n",
       "      <td>http://images.amazon.com/images/P/0571197639.0...</td>\n",
       "      <td>http://images.amazon.com/images/P/0571197639.0...</td>\n",
       "    </tr>\n",
       "    <tr>\n",
       "      <th>351</th>\n",
       "      <td>3596214629</td>\n",
       "      <td>Herr Der Fliegen (Fiction, Poetry and Drama)</td>\n",
       "      <td>Golding</td>\n",
       "      <td>0.0</td>\n",
       "      <td>Fischer Taschenbuch Verlag GmbH</td>\n",
       "      <td>http://images.amazon.com/images/P/3596214629.0...</td>\n",
       "      <td>http://images.amazon.com/images/P/3596214629.0...</td>\n",
       "      <td>http://images.amazon.com/images/P/3596214629.0...</td>\n",
       "    </tr>\n",
       "    <tr>\n",
       "      <th>542</th>\n",
       "      <td>8845229041</td>\n",
       "      <td>Biblioteca Universale Rizzoli: Sulla Sponda De...</td>\n",
       "      <td>P Coelho</td>\n",
       "      <td>0.0</td>\n",
       "      <td>Fabbri - RCS Libri</td>\n",
       "      <td>http://images.amazon.com/images/P/8845229041.0...</td>\n",
       "      <td>http://images.amazon.com/images/P/8845229041.0...</td>\n",
       "      <td>http://images.amazon.com/images/P/8845229041.0...</td>\n",
       "    </tr>\n",
       "    <tr>\n",
       "      <th>...</th>\n",
       "      <td>...</td>\n",
       "      <td>...</td>\n",
       "      <td>...</td>\n",
       "      <td>...</td>\n",
       "      <td>...</td>\n",
       "      <td>...</td>\n",
       "      <td>...</td>\n",
       "      <td>...</td>\n",
       "    </tr>\n",
       "    <tr>\n",
       "      <th>270794</th>\n",
       "      <td>014029953X</td>\n",
       "      <td>Foe (Essential.penguin S.)</td>\n",
       "      <td>J.M. Coetzee</td>\n",
       "      <td>0.0</td>\n",
       "      <td>Penguin Books Ltd</td>\n",
       "      <td>http://images.amazon.com/images/P/014029953X.0...</td>\n",
       "      <td>http://images.amazon.com/images/P/014029953X.0...</td>\n",
       "      <td>http://images.amazon.com/images/P/014029953X.0...</td>\n",
       "    </tr>\n",
       "    <tr>\n",
       "      <th>270913</th>\n",
       "      <td>0340571187</td>\n",
       "      <td>Postmens House</td>\n",
       "      <td>Maggie Hemingway</td>\n",
       "      <td>0.0</td>\n",
       "      <td>Trafalgar Square</td>\n",
       "      <td>http://images.amazon.com/images/P/0340571187.0...</td>\n",
       "      <td>http://images.amazon.com/images/P/0340571187.0...</td>\n",
       "      <td>http://images.amazon.com/images/P/0340571187.0...</td>\n",
       "    </tr>\n",
       "    <tr>\n",
       "      <th>271094</th>\n",
       "      <td>8427201079</td>\n",
       "      <td>El Misterio De Sittaford</td>\n",
       "      <td>Agatha Christie</td>\n",
       "      <td>0.0</td>\n",
       "      <td>Editorial Molino</td>\n",
       "      <td>http://images.amazon.com/images/P/8427201079.0...</td>\n",
       "      <td>http://images.amazon.com/images/P/8427201079.0...</td>\n",
       "      <td>http://images.amazon.com/images/P/8427201079.0...</td>\n",
       "    </tr>\n",
       "    <tr>\n",
       "      <th>271182</th>\n",
       "      <td>0887781721</td>\n",
       "      <td>Tom Penny</td>\n",
       "      <td>Tony German</td>\n",
       "      <td>0.0</td>\n",
       "      <td>P. Martin Associates</td>\n",
       "      <td>http://images.amazon.com/images/P/0887781721.0...</td>\n",
       "      <td>http://images.amazon.com/images/P/0887781721.0...</td>\n",
       "      <td>http://images.amazon.com/images/P/0887781721.0...</td>\n",
       "    </tr>\n",
       "    <tr>\n",
       "      <th>271196</th>\n",
       "      <td>3150013763</td>\n",
       "      <td>Der Hofmeister</td>\n",
       "      <td>Jakob Lenz</td>\n",
       "      <td>0.0</td>\n",
       "      <td>Philipp Reclam, Jun Verlag GmbH</td>\n",
       "      <td>http://images.amazon.com/images/P/3150013763.0...</td>\n",
       "      <td>http://images.amazon.com/images/P/3150013763.0...</td>\n",
       "      <td>http://images.amazon.com/images/P/3150013763.0...</td>\n",
       "    </tr>\n",
       "  </tbody>\n",
       "</table>\n",
       "<p>4632 rows × 8 columns</p>\n",
       "</div>"
      ],
      "text/plain": [
       "              ISBN                                         Book-Title  \\\n",
       "176     3150000335                                   Kabale Und Liebe   \n",
       "188     342311360X                            Die Liebe in Den Zelten   \n",
       "288     0571197639                        Poisonwood Bible Edition Uk   \n",
       "351     3596214629       Herr Der Fliegen (Fiction, Poetry and Drama)   \n",
       "542     8845229041  Biblioteca Universale Rizzoli: Sulla Sponda De...   \n",
       "...            ...                                                ...   \n",
       "270794  014029953X                         Foe (Essential.penguin S.)   \n",
       "270913  0340571187                                     Postmens House   \n",
       "271094  8427201079                           El Misterio De Sittaford   \n",
       "271182  0887781721                                          Tom Penny   \n",
       "271196  3150013763                                     Der Hofmeister   \n",
       "\n",
       "                   Book-Author  Year-Of-Publication  \\\n",
       "176                   Schiller                  0.0   \n",
       "188     Gabriel Garcia Marquez                  0.0   \n",
       "288         Barbara Kingsolver                  0.0   \n",
       "351                    Golding                  0.0   \n",
       "542                   P Coelho                  0.0   \n",
       "...                        ...                  ...   \n",
       "270794            J.M. Coetzee                  0.0   \n",
       "270913        Maggie Hemingway                  0.0   \n",
       "271094         Agatha Christie                  0.0   \n",
       "271182             Tony German                  0.0   \n",
       "271196              Jakob Lenz                  0.0   \n",
       "\n",
       "                                 Publisher  \\\n",
       "176        Philipp Reclam, Jun Verlag GmbH   \n",
       "188     Deutscher Taschenbuch Verlag (DTV)   \n",
       "288                        Faber Faber Inc   \n",
       "351        Fischer Taschenbuch Verlag GmbH   \n",
       "542                     Fabbri - RCS Libri   \n",
       "...                                    ...   \n",
       "270794                   Penguin Books Ltd   \n",
       "270913                    Trafalgar Square   \n",
       "271094                    Editorial Molino   \n",
       "271182                P. Martin Associates   \n",
       "271196     Philipp Reclam, Jun Verlag GmbH   \n",
       "\n",
       "                                              Image-URL-S  \\\n",
       "176     http://images.amazon.com/images/P/3150000335.0...   \n",
       "188     http://images.amazon.com/images/P/342311360X.0...   \n",
       "288     http://images.amazon.com/images/P/0571197639.0...   \n",
       "351     http://images.amazon.com/images/P/3596214629.0...   \n",
       "542     http://images.amazon.com/images/P/8845229041.0...   \n",
       "...                                                   ...   \n",
       "270794  http://images.amazon.com/images/P/014029953X.0...   \n",
       "270913  http://images.amazon.com/images/P/0340571187.0...   \n",
       "271094  http://images.amazon.com/images/P/8427201079.0...   \n",
       "271182  http://images.amazon.com/images/P/0887781721.0...   \n",
       "271196  http://images.amazon.com/images/P/3150013763.0...   \n",
       "\n",
       "                                              Image-URL-M  \\\n",
       "176     http://images.amazon.com/images/P/3150000335.0...   \n",
       "188     http://images.amazon.com/images/P/342311360X.0...   \n",
       "288     http://images.amazon.com/images/P/0571197639.0...   \n",
       "351     http://images.amazon.com/images/P/3596214629.0...   \n",
       "542     http://images.amazon.com/images/P/8845229041.0...   \n",
       "...                                                   ...   \n",
       "270794  http://images.amazon.com/images/P/014029953X.0...   \n",
       "270913  http://images.amazon.com/images/P/0340571187.0...   \n",
       "271094  http://images.amazon.com/images/P/8427201079.0...   \n",
       "271182  http://images.amazon.com/images/P/0887781721.0...   \n",
       "271196  http://images.amazon.com/images/P/3150013763.0...   \n",
       "\n",
       "                                              Image-URL-L  \n",
       "176     http://images.amazon.com/images/P/3150000335.0...  \n",
       "188     http://images.amazon.com/images/P/342311360X.0...  \n",
       "288     http://images.amazon.com/images/P/0571197639.0...  \n",
       "351     http://images.amazon.com/images/P/3596214629.0...  \n",
       "542     http://images.amazon.com/images/P/8845229041.0...  \n",
       "...                                                   ...  \n",
       "270794  http://images.amazon.com/images/P/014029953X.0...  \n",
       "270913  http://images.amazon.com/images/P/0340571187.0...  \n",
       "271094  http://images.amazon.com/images/P/8427201079.0...  \n",
       "271182  http://images.amazon.com/images/P/0887781721.0...  \n",
       "271196  http://images.amazon.com/images/P/3150013763.0...  \n",
       "\n",
       "[4632 rows x 8 columns]"
      ]
     },
     "execution_count": 45,
     "metadata": {},
     "output_type": "execute_result"
    }
   ],
   "source": [
    "#Check for the books published before 1800 and after 2024\n",
    "books[(books['Year-Of-Publication']<1800) | (books['Year-Of-Publication']>2024)]"
   ]
  },
  {
   "cell_type": "code",
   "execution_count": 46,
   "metadata": {},
   "outputs": [],
   "source": [
    "# Change the data type of year column to integer\n",
    "books['Year-Of-Publication'] = books['Year-Of-Publication'].astype(int)"
   ]
  },
  {
   "cell_type": "code",
   "execution_count": 47,
   "metadata": {},
   "outputs": [
    {
     "data": {
      "text/plain": [
       "ISBN                   object\n",
       "Book-Title             object\n",
       "Book-Author            object\n",
       "Year-Of-Publication     int32\n",
       "Publisher              object\n",
       "Image-URL-S            object\n",
       "Image-URL-M            object\n",
       "Image-URL-L            object\n",
       "dtype: object"
      ]
     },
     "execution_count": 47,
     "metadata": {},
     "output_type": "execute_result"
    }
   ],
   "source": [
    "#Verify the data type\n",
    "books.dtypes"
   ]
  },
  {
   "cell_type": "code",
   "execution_count": 48,
   "metadata": {},
   "outputs": [],
   "source": [
    "# Replace the Year before 1800 and after 2024 with 1800 and 2024 respectively.\n",
    "books.loc[books['Year-Of-Publication']<=1800,'Year-Of-Publication'] = 1800\n",
    "books.loc[books['Year-Of-Publication']>=2024,'Year-Of-Publication'] = 2024"
   ]
  },
  {
   "cell_type": "code",
   "execution_count": 49,
   "metadata": {},
   "outputs": [
    {
     "data": {
      "text/plain": [
       "ISBN        Book-Title                                  Book-Author             Year-Of-Publication  Publisher                  Image-URL-S                                                   Image-URL-M                                                   Image-URL-L                                                 \n",
       "0001046438  Liar                                        Stephen Fry             1800                 Harpercollins Uk           http://images.amazon.com/images/P/0001046438.01.THUMBZZZ.jpg  http://images.amazon.com/images/P/0001046438.01.MZZZZZZZ.jpg  http://images.amazon.com/images/P/0001046438.01.LZZZZZZZ.jpg    1\n",
       "1857993284  Sophies World                               Jostein Gaarder         1800                 Phoenix Publishing Inc     http://images.amazon.com/images/P/1857993284.01.THUMBZZZ.jpg  http://images.amazon.com/images/P/1857993284.01.MZZZZZZZ.jpg  http://images.amazon.com/images/P/1857993284.01.LZZZZZZZ.jpg    1\n",
       "1853268496  Sense and Sensibility                       Jane Austen             1800                 Universal Sales Marketing  http://images.amazon.com/images/P/1853268496.01.THUMBZZZ.jpg  http://images.amazon.com/images/P/1853268496.01.MZZZZZZZ.jpg  http://images.amazon.com/images/P/1853268496.01.LZZZZZZZ.jpg    1\n",
       "185326847X  Northanger Abbey                            Jane Austen             1800                 Universal Sales Marketing  http://images.amazon.com/images/P/185326847X.01.THUMBZZZ.jpg  http://images.amazon.com/images/P/185326847X.01.MZZZZZZZ.jpg  http://images.amazon.com/images/P/185326847X.01.LZZZZZZZ.jpg    1\n",
       "1853268461  Frankenstein                                Mary Shelley            1800                 Universal Sales Marketing  http://images.amazon.com/images/P/1853268461.01.THUMBZZZ.jpg  http://images.amazon.com/images/P/1853268461.01.MZZZZZZZ.jpg  http://images.amazon.com/images/P/1853268461.01.LZZZZZZZ.jpg    1\n",
       "                                                                                                                                                                                                                                                                                                                           ..\n",
       "0571145620  The Spitting Image Treasure Island          Robert Loius Stevenson  1800                 Faber Faber Inc            http://images.amazon.com/images/P/0571145620.01.THUMBZZZ.jpg  http://images.amazon.com/images/P/0571145620.01.MZZZZZZZ.jpg  http://images.amazon.com/images/P/0571145620.01.LZZZZZZZ.jpg    1\n",
       "0571145574  Tooth and Claw the Inside Story of Spittin  Lewis Chester           1800                 Faber Faber Inc            http://images.amazon.com/images/P/0571145574.01.THUMBZZZ.jpg  http://images.amazon.com/images/P/0571145574.01.MZZZZZZZ.jpg  http://images.amazon.com/images/P/0571145574.01.LZZZZZZZ.jpg    1\n",
       "057114456X  Immortality                                 Milan Kundera           1800                 Faber Faber Inc            http://images.amazon.com/images/P/057114456X.01.THUMBZZZ.jpg  http://images.amazon.com/images/P/057114456X.01.MZZZZZZZ.jpg  http://images.amazon.com/images/P/057114456X.01.LZZZZZZZ.jpg    1\n",
       "0571142745  Buddha of Suburbia                          Hanif Kureishi          1800                 Faber Faber Inc            http://images.amazon.com/images/P/0571142745.01.THUMBZZZ.jpg  http://images.amazon.com/images/P/0571142745.01.MZZZZZZZ.jpg  http://images.amazon.com/images/P/0571142745.01.LZZZZZZZ.jpg    1\n",
       "B0002K6K8O  The Underground City                        Jules Verne             1800                 Digireads.com              http://images.amazon.com/images/P/B0002K6K8O.01.THUMBZZZ.jpg  http://images.amazon.com/images/P/B0002K6K8O.01.MZZZZZZZ.jpg  http://images.amazon.com/images/P/B0002K6K8O.01.LZZZZZZZ.jpg    1\n",
       "Length: 4620, dtype: int64"
      ]
     },
     "execution_count": 49,
     "metadata": {},
     "output_type": "execute_result"
    }
   ],
   "source": [
    "books[books['Year-Of-Publication']==1800].value_counts()"
   ]
  },
  {
   "cell_type": "code",
   "execution_count": 50,
   "metadata": {},
   "outputs": [
    {
     "data": {
      "text/plain": [
       "ISBN        Book-Title                                                                     Book-Author                  Year-Of-Publication  Publisher                                   Image-URL-S                                                   Image-URL-M                                                   Image-URL-L                                                 \n",
       "0140201092  Outline of European Architecture (Pelican S.)                                  Nikolaus Pevsner             2024                 Penguin USA                                 http://images.amazon.com/images/P/0140201092.01.THUMBZZZ.jpg  http://images.amazon.com/images/P/0140201092.01.MZZZZZZZ.jpg  http://images.amazon.com/images/P/0140201092.01.LZZZZZZZ.jpg    1\n",
       "0140301690  Alice's Adventures in Wonderland and Through the Looking Glass (Puffin Books)  Lewis Carroll                2024                 Puffin Books                                http://images.amazon.com/images/P/0140301690.01.THUMBZZZ.jpg  http://images.amazon.com/images/P/0140301690.01.MZZZZZZZ.jpg  http://images.amazon.com/images/P/0140301690.01.LZZZZZZZ.jpg    1\n",
       "0380000059  CLOUT                                                                          D. GIBBONS                   2024                 Avon                                        http://images.amazon.com/images/P/0380000059.01.THUMBZZZ.jpg  http://images.amazon.com/images/P/0380000059.01.MZZZZZZZ.jpg  http://images.amazon.com/images/P/0380000059.01.LZZZZZZZ.jpg    1\n",
       "0394701658  Three Plays of Eugene Oneill                                                   Eugene O'Neill               2024                 Vintage Books USA                           http://images.amazon.com/images/P/0394701658.01.THUMBZZZ.jpg  http://images.amazon.com/images/P/0394701658.01.MZZZZZZZ.jpg  http://images.amazon.com/images/P/0394701658.01.LZZZZZZZ.jpg    1\n",
       "0671266500  FOREST PEOPLE (Touchstone Books (Hardcover))                                   Colin M. Turnbull            2024                 Simon &amp; Schuster                        http://images.amazon.com/images/P/0671266500.01.THUMBZZZ.jpg  http://images.amazon.com/images/P/0671266500.01.MZZZZZZZ.jpg  http://images.amazon.com/images/P/0671266500.01.LZZZZZZZ.jpg    1\n",
       "0671740989  FOOTBALL SUPER TEAMS : FOOTBALL SUPER TEAMS                                    Bill Gutman                  2024                 Simon &amp; Schuster Children's Publishing  http://images.amazon.com/images/P/0671740989.01.THUMBZZZ.jpg  http://images.amazon.com/images/P/0671740989.01.MZZZZZZZ.jpg  http://images.amazon.com/images/P/0671740989.01.LZZZZZZZ.jpg    1\n",
       "0671746103  MY TEACHER FRIED MY BRAINS (RACK SIZE) (MY TEACHER BOOKS)                      Coville                      2024                 Aladdin                                     http://images.amazon.com/images/P/0671746103.01.THUMBZZZ.jpg  http://images.amazon.com/images/P/0671746103.01.MZZZZZZZ.jpg  http://images.amazon.com/images/P/0671746103.01.LZZZZZZZ.jpg    1\n",
       "0671791990  MY TEACHER FLUNKED THE PLANET (RACK SIZE) (MY TEACHER BOOKS)                   Bruce Coville                2024                 Aladdin                                     http://images.amazon.com/images/P/0671791990.01.THUMBZZZ.jpg  http://images.amazon.com/images/P/0671791990.01.MZZZZZZZ.jpg  http://images.amazon.com/images/P/0671791990.01.LZZZZZZZ.jpg    1\n",
       "0684718022  In Our Time: Stories (Scribner Classic)                                        Ernest Hemingway             2024                 Collier Books                               http://images.amazon.com/images/P/0684718022.01.THUMBZZZ.jpg  http://images.amazon.com/images/P/0684718022.01.MZZZZZZZ.jpg  http://images.amazon.com/images/P/0684718022.01.LZZZZZZZ.jpg    1\n",
       "068471809X  To Have and Have Not                                                           Ernest Hemingway             2024                 Simon &amp; Schuster                        http://images.amazon.com/images/P/068471809X.01.THUMBZZZ.jpg  http://images.amazon.com/images/P/068471809X.01.MZZZZZZZ.jpg  http://images.amazon.com/images/P/068471809X.01.LZZZZZZZ.jpg    1\n",
       "0870446924  Field Guide to the Birds of North America, 3rd Ed.                             National Geographic Society  2024                 National Geographic                         http://images.amazon.com/images/P/0870446924.01.THUMBZZZ.jpg  http://images.amazon.com/images/P/0870446924.01.MZZZZZZZ.jpg  http://images.amazon.com/images/P/0870446924.01.LZZZZZZZ.jpg    1\n",
       "0870449842  Crossing America                                                               National Geographic Society  2024                 National Geographic                         http://images.amazon.com/images/P/0870449842.01.THUMBZZZ.jpg  http://images.amazon.com/images/P/0870449842.01.MZZZZZZZ.jpg  http://images.amazon.com/images/P/0870449842.01.LZZZZZZZ.jpg    1\n",
       "3442436893  Das groÃ?Â?e BÃ?Â¶se- MÃ?Â¤dchen- Lesebuch.                                    Kathy Lette                  2024                 Goldmann                                    http://images.amazon.com/images/P/3442436893.01.THUMBZZZ.jpg  http://images.amazon.com/images/P/3442436893.01.MZZZZZZZ.jpg  http://images.amazon.com/images/P/3442436893.01.LZZZZZZZ.jpg    1\n",
       "dtype: int64"
      ]
     },
     "execution_count": 50,
     "metadata": {},
     "output_type": "execute_result"
    }
   ],
   "source": [
    "books[books['Year-Of-Publication']==2024].value_counts()"
   ]
  },
  {
   "cell_type": "markdown",
   "metadata": {},
   "source": [
    "### 1.2 Users Dataset"
   ]
  },
  {
   "cell_type": "code",
   "execution_count": 51,
   "metadata": {},
   "outputs": [
    {
     "data": {
      "text/html": [
       "<div>\n",
       "<style scoped>\n",
       "    .dataframe tbody tr th:only-of-type {\n",
       "        vertical-align: middle;\n",
       "    }\n",
       "\n",
       "    .dataframe tbody tr th {\n",
       "        vertical-align: top;\n",
       "    }\n",
       "\n",
       "    .dataframe thead th {\n",
       "        text-align: right;\n",
       "    }\n",
       "</style>\n",
       "<table border=\"1\" class=\"dataframe\">\n",
       "  <thead>\n",
       "    <tr style=\"text-align: right;\">\n",
       "      <th></th>\n",
       "      <th>User-ID</th>\n",
       "      <th>Location</th>\n",
       "      <th>Age</th>\n",
       "    </tr>\n",
       "  </thead>\n",
       "  <tbody>\n",
       "    <tr>\n",
       "      <th>0</th>\n",
       "      <td>1</td>\n",
       "      <td>nyc, new york, usa</td>\n",
       "      <td>NaN</td>\n",
       "    </tr>\n",
       "    <tr>\n",
       "      <th>1</th>\n",
       "      <td>2</td>\n",
       "      <td>stockton, california, usa</td>\n",
       "      <td>18.0</td>\n",
       "    </tr>\n",
       "    <tr>\n",
       "      <th>2</th>\n",
       "      <td>3</td>\n",
       "      <td>moscow, yukon territory, russia</td>\n",
       "      <td>NaN</td>\n",
       "    </tr>\n",
       "    <tr>\n",
       "      <th>3</th>\n",
       "      <td>4</td>\n",
       "      <td>porto, v.n.gaia, portugal</td>\n",
       "      <td>17.0</td>\n",
       "    </tr>\n",
       "    <tr>\n",
       "      <th>4</th>\n",
       "      <td>5</td>\n",
       "      <td>farnborough, hants, united kingdom</td>\n",
       "      <td>NaN</td>\n",
       "    </tr>\n",
       "  </tbody>\n",
       "</table>\n",
       "</div>"
      ],
      "text/plain": [
       "   User-ID                            Location   Age\n",
       "0        1                  nyc, new york, usa   NaN\n",
       "1        2           stockton, california, usa  18.0\n",
       "2        3     moscow, yukon territory, russia   NaN\n",
       "3        4           porto, v.n.gaia, portugal  17.0\n",
       "4        5  farnborough, hants, united kingdom   NaN"
      ]
     },
     "execution_count": 51,
     "metadata": {},
     "output_type": "execute_result"
    }
   ],
   "source": [
    "users.head()"
   ]
  },
  {
   "cell_type": "code",
   "execution_count": 52,
   "metadata": {},
   "outputs": [
    {
     "data": {
      "text/html": [
       "<div>\n",
       "<style scoped>\n",
       "    .dataframe tbody tr th:only-of-type {\n",
       "        vertical-align: middle;\n",
       "    }\n",
       "\n",
       "    .dataframe tbody tr th {\n",
       "        vertical-align: top;\n",
       "    }\n",
       "\n",
       "    .dataframe thead th {\n",
       "        text-align: right;\n",
       "    }\n",
       "</style>\n",
       "<table border=\"1\" class=\"dataframe\">\n",
       "  <thead>\n",
       "    <tr style=\"text-align: right;\">\n",
       "      <th></th>\n",
       "      <th>User-ID</th>\n",
       "      <th>Age</th>\n",
       "    </tr>\n",
       "  </thead>\n",
       "  <tbody>\n",
       "    <tr>\n",
       "      <th>count</th>\n",
       "      <td>278858.00000</td>\n",
       "      <td>168096.000000</td>\n",
       "    </tr>\n",
       "    <tr>\n",
       "      <th>mean</th>\n",
       "      <td>139429.50000</td>\n",
       "      <td>34.751434</td>\n",
       "    </tr>\n",
       "    <tr>\n",
       "      <th>std</th>\n",
       "      <td>80499.51502</td>\n",
       "      <td>14.428097</td>\n",
       "    </tr>\n",
       "    <tr>\n",
       "      <th>min</th>\n",
       "      <td>1.00000</td>\n",
       "      <td>0.000000</td>\n",
       "    </tr>\n",
       "    <tr>\n",
       "      <th>25%</th>\n",
       "      <td>69715.25000</td>\n",
       "      <td>24.000000</td>\n",
       "    </tr>\n",
       "    <tr>\n",
       "      <th>50%</th>\n",
       "      <td>139429.50000</td>\n",
       "      <td>32.000000</td>\n",
       "    </tr>\n",
       "    <tr>\n",
       "      <th>75%</th>\n",
       "      <td>209143.75000</td>\n",
       "      <td>44.000000</td>\n",
       "    </tr>\n",
       "    <tr>\n",
       "      <th>max</th>\n",
       "      <td>278858.00000</td>\n",
       "      <td>244.000000</td>\n",
       "    </tr>\n",
       "  </tbody>\n",
       "</table>\n",
       "</div>"
      ],
      "text/plain": [
       "            User-ID            Age\n",
       "count  278858.00000  168096.000000\n",
       "mean   139429.50000      34.751434\n",
       "std     80499.51502      14.428097\n",
       "min         1.00000       0.000000\n",
       "25%     69715.25000      24.000000\n",
       "50%    139429.50000      32.000000\n",
       "75%    209143.75000      44.000000\n",
       "max    278858.00000     244.000000"
      ]
     },
     "execution_count": 52,
     "metadata": {},
     "output_type": "execute_result"
    }
   ],
   "source": [
    "#Describe the data\n",
    "users.describe()"
   ]
  },
  {
   "cell_type": "code",
   "execution_count": 53,
   "metadata": {},
   "outputs": [
    {
     "data": {
      "text/plain": [
       "User-ID       int64\n",
       "Location     object\n",
       "Age         float64\n",
       "dtype: object"
      ]
     },
     "execution_count": 53,
     "metadata": {},
     "output_type": "execute_result"
    }
   ],
   "source": [
    "#Check the data type of each column\n",
    "users.dtypes"
   ]
  },
  {
   "cell_type": "code",
   "execution_count": 54,
   "metadata": {},
   "outputs": [
    {
     "name": "stdout",
     "output_type": "stream",
     "text": [
      "Null values in each column:\n",
      " User-ID          0\n",
      "Location         0\n",
      "Age         110762\n",
      "dtype: int64\n",
      "Blank values in each column:\n",
      " User-ID     0\n",
      "Location    0\n",
      "Age         0\n",
      "dtype: int64\n"
     ]
    }
   ],
   "source": [
    "# Check for null values\n",
    "null_values = users.isnull().sum()\n",
    "print(\"Null values in each column:\\n\", null_values)\n",
    "\n",
    "# Check for blank values (empty strings) in each column\n",
    "blank_values = (users.applymap(lambda x: x == '')).sum()\n",
    "print(\"Blank values in each column:\\n\", blank_values)"
   ]
  },
  {
   "cell_type": "code",
   "execution_count": 55,
   "metadata": {},
   "outputs": [],
   "source": [
    "#replace null age value with average age values\n",
    "average_age = users['Age'].mean(skipna=True)\n",
    "users['Age'].fillna(average_age, inplace=True)"
   ]
  },
  {
   "cell_type": "code",
   "execution_count": 56,
   "metadata": {},
   "outputs": [
    {
     "name": "stdout",
     "output_type": "stream",
     "text": [
      "Null values after replacement:\n",
      " User-ID     0\n",
      "Location    0\n",
      "Age         0\n",
      "dtype: int64\n"
     ]
    }
   ],
   "source": [
    "#Verify Replacement:\n",
    "null_values_after = users.isnull().sum()\n",
    "print(\"Null values after replacement:\\n\", null_values_after)"
   ]
  },
  {
   "cell_type": "code",
   "execution_count": 57,
   "metadata": {},
   "outputs": [],
   "source": [
    "#Convert the data type of Age column to integer\n",
    "users['Age'] = users['Age'].astype(int)"
   ]
  },
  {
   "cell_type": "code",
   "execution_count": 58,
   "metadata": {},
   "outputs": [
    {
     "data": {
      "text/plain": [
       "User-ID      int64\n",
       "Location    object\n",
       "Age          int32\n",
       "dtype: object"
      ]
     },
     "execution_count": 58,
     "metadata": {},
     "output_type": "execute_result"
    }
   ],
   "source": [
    "#Verify the Datatype\n",
    "users.dtypes"
   ]
  },
  {
   "cell_type": "markdown",
   "metadata": {},
   "source": [
    "### 1.3 Ratings Dataset"
   ]
  },
  {
   "cell_type": "code",
   "execution_count": 59,
   "metadata": {},
   "outputs": [
    {
     "data": {
      "text/html": [
       "<div>\n",
       "<style scoped>\n",
       "    .dataframe tbody tr th:only-of-type {\n",
       "        vertical-align: middle;\n",
       "    }\n",
       "\n",
       "    .dataframe tbody tr th {\n",
       "        vertical-align: top;\n",
       "    }\n",
       "\n",
       "    .dataframe thead th {\n",
       "        text-align: right;\n",
       "    }\n",
       "</style>\n",
       "<table border=\"1\" class=\"dataframe\">\n",
       "  <thead>\n",
       "    <tr style=\"text-align: right;\">\n",
       "      <th></th>\n",
       "      <th>User-ID</th>\n",
       "      <th>ISBN</th>\n",
       "      <th>Book-Rating</th>\n",
       "    </tr>\n",
       "  </thead>\n",
       "  <tbody>\n",
       "    <tr>\n",
       "      <th>0</th>\n",
       "      <td>276725</td>\n",
       "      <td>034545104X</td>\n",
       "      <td>0</td>\n",
       "    </tr>\n",
       "    <tr>\n",
       "      <th>1</th>\n",
       "      <td>276726</td>\n",
       "      <td>0155061224</td>\n",
       "      <td>5</td>\n",
       "    </tr>\n",
       "    <tr>\n",
       "      <th>2</th>\n",
       "      <td>276727</td>\n",
       "      <td>0446520802</td>\n",
       "      <td>0</td>\n",
       "    </tr>\n",
       "    <tr>\n",
       "      <th>3</th>\n",
       "      <td>276729</td>\n",
       "      <td>052165615X</td>\n",
       "      <td>3</td>\n",
       "    </tr>\n",
       "    <tr>\n",
       "      <th>4</th>\n",
       "      <td>276729</td>\n",
       "      <td>0521795028</td>\n",
       "      <td>6</td>\n",
       "    </tr>\n",
       "  </tbody>\n",
       "</table>\n",
       "</div>"
      ],
      "text/plain": [
       "   User-ID        ISBN  Book-Rating\n",
       "0   276725  034545104X            0\n",
       "1   276726  0155061224            5\n",
       "2   276727  0446520802            0\n",
       "3   276729  052165615X            3\n",
       "4   276729  0521795028            6"
      ]
     },
     "execution_count": 59,
     "metadata": {},
     "output_type": "execute_result"
    }
   ],
   "source": [
    "ratings.head()"
   ]
  },
  {
   "cell_type": "code",
   "execution_count": 60,
   "metadata": {},
   "outputs": [
    {
     "data": {
      "text/html": [
       "<div>\n",
       "<style scoped>\n",
       "    .dataframe tbody tr th:only-of-type {\n",
       "        vertical-align: middle;\n",
       "    }\n",
       "\n",
       "    .dataframe tbody tr th {\n",
       "        vertical-align: top;\n",
       "    }\n",
       "\n",
       "    .dataframe thead th {\n",
       "        text-align: right;\n",
       "    }\n",
       "</style>\n",
       "<table border=\"1\" class=\"dataframe\">\n",
       "  <thead>\n",
       "    <tr style=\"text-align: right;\">\n",
       "      <th></th>\n",
       "      <th>User-ID</th>\n",
       "      <th>Book-Rating</th>\n",
       "    </tr>\n",
       "  </thead>\n",
       "  <tbody>\n",
       "    <tr>\n",
       "      <th>count</th>\n",
       "      <td>1.149780e+06</td>\n",
       "      <td>1.149780e+06</td>\n",
       "    </tr>\n",
       "    <tr>\n",
       "      <th>mean</th>\n",
       "      <td>1.403864e+05</td>\n",
       "      <td>2.866950e+00</td>\n",
       "    </tr>\n",
       "    <tr>\n",
       "      <th>std</th>\n",
       "      <td>8.056228e+04</td>\n",
       "      <td>3.854184e+00</td>\n",
       "    </tr>\n",
       "    <tr>\n",
       "      <th>min</th>\n",
       "      <td>2.000000e+00</td>\n",
       "      <td>0.000000e+00</td>\n",
       "    </tr>\n",
       "    <tr>\n",
       "      <th>25%</th>\n",
       "      <td>7.034500e+04</td>\n",
       "      <td>0.000000e+00</td>\n",
       "    </tr>\n",
       "    <tr>\n",
       "      <th>50%</th>\n",
       "      <td>1.410100e+05</td>\n",
       "      <td>0.000000e+00</td>\n",
       "    </tr>\n",
       "    <tr>\n",
       "      <th>75%</th>\n",
       "      <td>2.110280e+05</td>\n",
       "      <td>7.000000e+00</td>\n",
       "    </tr>\n",
       "    <tr>\n",
       "      <th>max</th>\n",
       "      <td>2.788540e+05</td>\n",
       "      <td>1.000000e+01</td>\n",
       "    </tr>\n",
       "  </tbody>\n",
       "</table>\n",
       "</div>"
      ],
      "text/plain": [
       "            User-ID   Book-Rating\n",
       "count  1.149780e+06  1.149780e+06\n",
       "mean   1.403864e+05  2.866950e+00\n",
       "std    8.056228e+04  3.854184e+00\n",
       "min    2.000000e+00  0.000000e+00\n",
       "25%    7.034500e+04  0.000000e+00\n",
       "50%    1.410100e+05  0.000000e+00\n",
       "75%    2.110280e+05  7.000000e+00\n",
       "max    2.788540e+05  1.000000e+01"
      ]
     },
     "execution_count": 60,
     "metadata": {},
     "output_type": "execute_result"
    }
   ],
   "source": [
    "#Describe the Data\n",
    "ratings.describe()"
   ]
  },
  {
   "cell_type": "code",
   "execution_count": 61,
   "metadata": {},
   "outputs": [
    {
     "data": {
      "text/plain": [
       "User-ID         int64\n",
       "ISBN           object\n",
       "Book-Rating     int64\n",
       "dtype: object"
      ]
     },
     "execution_count": 61,
     "metadata": {},
     "output_type": "execute_result"
    }
   ],
   "source": [
    "#Check the data type of each column\n",
    "ratings.dtypes"
   ]
  },
  {
   "cell_type": "code",
   "execution_count": 62,
   "metadata": {},
   "outputs": [
    {
     "name": "stdout",
     "output_type": "stream",
     "text": [
      "Null values in each column:\n",
      " User-ID        0\n",
      "ISBN           0\n",
      "Book-Rating    0\n",
      "dtype: int64\n",
      "Blank values in each column:\n",
      " User-ID        0\n",
      "ISBN           0\n",
      "Book-Rating    0\n",
      "dtype: int64\n"
     ]
    }
   ],
   "source": [
    "# Check for null values\n",
    "null_values = ratings.isnull().sum()\n",
    "print(\"Null values in each column:\\n\", null_values)\n",
    "\n",
    "# Check for blank values (empty strings) in each column\n",
    "blank_values = (ratings.applymap(lambda x: x == '')).sum()\n",
    "print(\"Blank values in each column:\\n\", blank_values)"
   ]
  },
  {
   "cell_type": "code",
   "execution_count": 63,
   "metadata": {},
   "outputs": [
    {
     "data": {
      "text/plain": [
       "0     716109\n",
       "8     103736\n",
       "10     78610\n",
       "7      76457\n",
       "9      67541\n",
       "5      50974\n",
       "6      36924\n",
       "4       8904\n",
       "3       5996\n",
       "2       2759\n",
       "1       1770\n",
       "Name: Book-Rating, dtype: int64"
      ]
     },
     "execution_count": 63,
     "metadata": {},
     "output_type": "execute_result"
    }
   ],
   "source": [
    "ratings['Book-Rating'].value_counts()"
   ]
  },
  {
   "cell_type": "code",
   "execution_count": 64,
   "metadata": {},
   "outputs": [
    {
     "name": "stdout",
     "output_type": "stream",
     "text": [
      "Duplicate values in Books Dataset: 0\n",
      "Duplicate values in Users Dataset: 0\n",
      "Duplicate values in Ratings Dataset: 0\n"
     ]
    }
   ],
   "source": [
    "# Checking for Duplicate values in the dataset\n",
    "print(\"Duplicate values in Books Dataset:\", books.duplicated().sum())\n",
    "print(\"Duplicate values in Users Dataset:\", users.duplicated().sum())\n",
    "print(\"Duplicate values in Ratings Dataset:\", ratings.duplicated().sum())"
   ]
  }
 ],
 "metadata": {
  "kernelspec": {
   "display_name": "base",
   "language": "python",
   "name": "python3"
  },
  "language_info": {
   "codemirror_mode": {
    "name": "ipython",
    "version": 3
   },
   "file_extension": ".py",
   "mimetype": "text/x-python",
   "name": "python",
   "nbconvert_exporter": "python",
   "pygments_lexer": "ipython3",
   "version": "3.9.13"
  }
 },
 "nbformat": 4,
 "nbformat_minor": 2
}
